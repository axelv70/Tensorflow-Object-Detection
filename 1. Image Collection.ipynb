{
 "cells": [
  {
   "cell_type": "markdown",
   "metadata": {},
   "source": [
    "# 1. Import Dependencies"
   ]
  },
  {
   "cell_type": "code",
   "execution_count": 3,
   "metadata": {
    "collapsed": true
   },
   "outputs": [
    {
     "name": "stdout",
     "output_type": "stream",
     "text": [
      "Requirement already satisfied: opencv-python in d:\\ai\\tensorflowobjectdetection\\tfod\\lib\\site-packages (4.9.0.80)\n",
      "Requirement already satisfied: numpy>=1.19.3 in d:\\ai\\tensorflowobjectdetection\\tfod\\lib\\site-packages (from opencv-python) (1.26.3)\n"
     ]
    },
    {
     "name": "stderr",
     "output_type": "stream",
     "text": [
      "\n",
      "[notice] A new release of pip is available: 23.0.1 -> 23.3.2\n",
      "[notice] To update, run: python.exe -m pip install --upgrade pip\n"
     ]
    }
   ],
   "source": [
    "!pip install opencv-python"
   ]
  },
  {
   "cell_type": "code",
   "execution_count": 2,
   "metadata": {
    "collapsed": true
   },
   "outputs": [
    {
     "name": "stdout",
     "output_type": "stream",
     "text": [
      "Package           Version\n",
      "----------------- --------\n",
      "asttokens         2.4.1\n",
      "colorama          0.4.6\n",
      "comm              0.2.1\n",
      "debugpy           1.8.0\n",
      "decorator         5.1.1\n",
      "exceptiongroup    1.2.0\n",
      "executing         2.0.1\n",
      "ipykernel         6.29.0\n",
      "ipython           8.21.0\n",
      "jedi              0.19.1\n",
      "jupyter_client    8.6.0\n",
      "jupyter_core      5.7.1\n",
      "matplotlib-inline 0.1.6\n",
      "nest-asyncio      1.6.0\n",
      "numpy             1.26.3\n",
      "opencv-python     4.9.0.80\n",
      "packaging         23.2\n",
      "parso             0.8.3\n",
      "pip               23.0.1\n",
      "platformdirs      4.2.0\n",
      "prompt-toolkit    3.0.43\n",
      "psutil            5.9.8\n",
      "pure-eval         0.2.2\n",
      "Pygments          2.17.2\n",
      "python-dateutil   2.8.2\n",
      "pywin32           306\n",
      "pyzmq             25.1.2\n",
      "setuptools        65.5.0\n",
      "six               1.16.0\n",
      "stack-data        0.6.3\n",
      "tornado           6.4\n",
      "traitlets         5.14.1\n",
      "wcwidth           0.2.13\n"
     ]
    },
    {
     "name": "stderr",
     "output_type": "stream",
     "text": [
      "\n",
      "[notice] A new release of pip is available: 23.0.1 -> 23.3.2\n",
      "[notice] To update, run: python.exe -m pip install --upgrade pip\n"
     ]
    }
   ],
   "source": [
    "!pip list"
   ]
  },
  {
   "cell_type": "code",
   "execution_count": 1,
   "metadata": {},
   "outputs": [],
   "source": [
    "import cv2\n",
    "import uuid # for unique identifier our images name\n",
    "import os\n",
    "import time # seconds break between labelling image"
   ]
  },
  {
   "cell_type": "markdown",
   "metadata": {},
   "source": [
    "# 2. Define Images to Collect"
   ]
  },
  {
   "cell_type": "code",
   "execution_count": 2,
   "metadata": {},
   "outputs": [],
   "source": [
    "labels = ['one', 'five', 'thumbsup', 'thumbsdown']\n",
    "number_imgs = 20"
   ]
  },
  {
   "cell_type": "markdown",
   "metadata": {},
   "source": [
    "# 3. Setup Folders "
   ]
  },
  {
   "cell_type": "code",
   "execution_count": 3,
   "metadata": {},
   "outputs": [],
   "source": [
    "IMAGES_PATH = os.path.join('Tensorflow', 'workspace', 'images', 'collectedimages')"
   ]
  },
  {
   "cell_type": "code",
   "execution_count": 4,
   "metadata": {},
   "outputs": [
    {
     "name": "stdout",
     "output_type": "stream",
     "text": [
      "Tensorflow\\workspace\\images\\collectedimages\n"
     ]
    }
   ],
   "source": [
    "print(IMAGES_PATH)"
   ]
  },
  {
   "cell_type": "code",
   "execution_count": 5,
   "metadata": {},
   "outputs": [
    {
     "data": {
      "text/plain": [
       "'nt'"
      ]
     },
     "execution_count": 5,
     "metadata": {},
     "output_type": "execute_result"
    }
   ],
   "source": [
    "os.name"
   ]
  },
  {
   "cell_type": "code",
   "execution_count": 6,
   "metadata": {},
   "outputs": [],
   "source": [
    "if not os.path.exists(IMAGES_PATH):\n",
    "    if os.name == 'posix':\n",
    "        !mkdir -p {IMAGES_PATH}\n",
    "    if os.name == 'nt':\n",
    "         !mkdir {IMAGES_PATH}\n",
    "for label in labels:\n",
    "    path = os.path.join(IMAGES_PATH, label)\n",
    "    if not os.path.exists(path):\n",
    "        !mkdir {path}"
   ]
  },
  {
   "cell_type": "markdown",
   "metadata": {},
   "source": [
    "# 4. Capture Images"
   ]
  },
  {
   "cell_type": "code",
   "execution_count": 7,
   "metadata": {},
   "outputs": [
    {
     "name": "stdout",
     "output_type": "stream",
     "text": [
      "Collecting images for one\n",
      "Collecting image 0\n",
      "Collecting image 1\n",
      "Collecting image 2\n",
      "Collecting image 3\n",
      "Collecting image 4\n",
      "Collecting image 5\n",
      "Collecting image 6\n",
      "Collecting image 7\n",
      "Collecting image 8\n",
      "Collecting image 9\n",
      "Collecting image 10\n",
      "Collecting image 11\n",
      "Collecting image 12\n",
      "Collecting image 13\n",
      "Collecting image 14\n",
      "Collecting image 15\n",
      "Collecting image 16\n",
      "Collecting image 17\n",
      "Collecting image 18\n",
      "Collecting image 19\n",
      "Collecting images for five\n",
      "Collecting image 0\n",
      "Collecting image 1\n",
      "Collecting image 2\n",
      "Collecting image 3\n",
      "Collecting image 4\n",
      "Collecting image 5\n",
      "Collecting image 6\n",
      "Collecting image 7\n",
      "Collecting image 8\n",
      "Collecting image 9\n",
      "Collecting image 10\n",
      "Collecting image 11\n",
      "Collecting image 12\n",
      "Collecting image 13\n",
      "Collecting image 14\n",
      "Collecting image 15\n",
      "Collecting image 16\n",
      "Collecting image 17\n",
      "Collecting image 18\n",
      "Collecting image 19\n",
      "Collecting images for thumbsup\n",
      "Collecting image 0\n",
      "Collecting image 1\n",
      "Collecting image 2\n",
      "Collecting image 3\n",
      "Collecting image 4\n",
      "Collecting image 5\n",
      "Collecting image 6\n",
      "Collecting image 7\n",
      "Collecting image 8\n",
      "Collecting image 9\n",
      "Collecting image 10\n",
      "Collecting image 11\n",
      "Collecting image 12\n",
      "Collecting image 13\n",
      "Collecting image 14\n",
      "Collecting image 15\n",
      "Collecting image 16\n",
      "Collecting image 17\n",
      "Collecting image 18\n",
      "Collecting image 19\n",
      "Collecting images for thumbsdown\n",
      "Collecting image 0\n",
      "Collecting image 1\n",
      "Collecting image 2\n",
      "Collecting image 3\n",
      "Collecting image 4\n",
      "Collecting image 5\n",
      "Collecting image 6\n",
      "Collecting image 7\n",
      "Collecting image 8\n",
      "Collecting image 9\n",
      "Collecting image 10\n",
      "Collecting image 11\n",
      "Collecting image 12\n",
      "Collecting image 13\n",
      "Collecting image 14\n",
      "Collecting image 15\n",
      "Collecting image 16\n",
      "Collecting image 17\n",
      "Collecting image 18\n",
      "Collecting image 19\n"
     ]
    }
   ],
   "source": [
    "for label in labels:\n",
    "    cap = cv2.VideoCapture(0) # Connects to out capture device\n",
    "    print('Collecting images for {}'.format(label))\n",
    "    time.sleep(5)\n",
    "    for imgnum in range(number_imgs):\n",
    "        print('Collecting image {}'.format(imgnum))\n",
    "        ret, frame = cap.read()\n",
    "        imgname = os.path.join(IMAGES_PATH,label,label+'.'+'{}.jpg'.format(str(uuid.uuid1())))\n",
    "        cv2.imwrite(imgname, frame)\n",
    "        cv2.imshow('frame', frame)\n",
    "        time.sleep(2)\n",
    "\n",
    "        if cv2.waitKey(1) & 0xFF == ord('q'):\n",
    "            break\n",
    "cap.release()\n",
    "cv2.destroyAllWindows()"
   ]
  },
  {
   "cell_type": "markdown",
   "metadata": {},
   "source": [
    "# 5. Image Labelling"
   ]
  },
  {
   "cell_type": "code",
   "execution_count": 5,
   "metadata": {
    "collapsed": true
   },
   "outputs": [
    {
     "name": "stdout",
     "output_type": "stream",
     "text": [
      "Collecting pyqt5\n",
      "  Using cached PyQt5-5.15.10-cp37-abi3-win_amd64.whl (6.8 MB)\n",
      "Collecting lxml\n",
      "  Using cached lxml-5.1.0-cp310-cp310-win_amd64.whl (3.9 MB)\n",
      "Collecting PyQt5-Qt5>=5.15.2\n",
      "  Using cached PyQt5_Qt5-5.15.2-py3-none-win_amd64.whl (50.1 MB)\n",
      "Collecting PyQt5-sip<13,>=12.13\n",
      "  Using cached PyQt5_sip-12.13.0-cp310-cp310-win_amd64.whl (78 kB)\n",
      "Installing collected packages: PyQt5-Qt5, PyQt5-sip, lxml, pyqt5\n",
      "Successfully installed PyQt5-Qt5-5.15.2 PyQt5-sip-12.13.0 lxml-5.1.0 pyqt5-5.15.10\n"
     ]
    },
    {
     "name": "stderr",
     "output_type": "stream",
     "text": [
      "\n",
      "[notice] A new release of pip is available: 23.0.1 -> 23.3.2\n",
      "[notice] To update, run: python.exe -m pip install --upgrade pip\n"
     ]
    }
   ],
   "source": [
    "!pip install --upgrade pyqt5 lxml"
   ]
  },
  {
   "cell_type": "code",
   "execution_count": 6,
   "metadata": {
    "collapsed": true
   },
   "outputs": [
    {
     "name": "stdout",
     "output_type": "stream",
     "text": [
      "Package           Version\n",
      "----------------- --------\n",
      "asttokens         2.4.1\n",
      "colorama          0.4.6\n",
      "comm              0.2.1\n",
      "debugpy           1.8.0\n",
      "decorator         5.1.1\n",
      "exceptiongroup    1.2.0\n",
      "executing         2.0.1\n",
      "ipykernel         6.29.0\n",
      "ipython           8.21.0\n",
      "jedi              0.19.1\n",
      "jupyter_client    8.6.0\n",
      "jupyter_core      5.7.1\n",
      "lxml              5.1.0\n",
      "matplotlib-inline 0.1.6\n",
      "nest-asyncio      1.6.0\n",
      "numpy             1.26.3\n",
      "opencv-python     4.9.0.80\n",
      "packaging         23.2\n",
      "parso             0.8.3\n",
      "pip               23.0.1\n",
      "platformdirs      4.2.0\n",
      "prompt-toolkit    3.0.43\n",
      "psutil            5.9.8\n",
      "pure-eval         0.2.2\n",
      "Pygments          2.17.2\n",
      "PyQt5             5.15.10\n",
      "PyQt5-Qt5         5.15.2\n",
      "PyQt5-sip         12.13.0\n",
      "python-dateutil   2.8.2\n",
      "pywin32           306\n",
      "pyzmq             25.1.2\n",
      "setuptools        65.5.0\n",
      "six               1.16.0\n",
      "stack-data        0.6.3\n",
      "tornado           6.4\n",
      "traitlets         5.14.1\n",
      "wcwidth           0.2.13\n"
     ]
    },
    {
     "name": "stderr",
     "output_type": "stream",
     "text": [
      "\n",
      "[notice] A new release of pip is available: 23.0.1 -> 23.3.2\n",
      "[notice] To update, run: python.exe -m pip install --upgrade pip\n"
     ]
    }
   ],
   "source": [
    "!pip list"
   ]
  },
  {
   "cell_type": "code",
   "execution_count": 8,
   "metadata": {},
   "outputs": [],
   "source": [
    "LABELIMG_PATH = os.path.join('Tensorflow', 'labelimg')"
   ]
  },
  {
   "cell_type": "code",
   "execution_count": 9,
   "metadata": {},
   "outputs": [],
   "source": [
    "if not os.path.exists(LABELIMG_PATH):\n",
    "    !mkdir {LABELIMG_PATH}\n",
    "    !git clone https://github.com/tzutalin/labelImg {LABELIMG_PATH}\n",
    "# getting files from this link https://github.com/HumanSignal/labelImg"
   ]
  },
  {
   "cell_type": "code",
   "execution_count": 9,
   "metadata": {},
   "outputs": [],
   "source": [
    "if os.name == 'posix':\n",
    "    !cd {LABELIMG_PATH} && make qt5py3\n",
    "if os.name =='nt':\n",
    "    !cd {LABELIMG_PATH} && pyrcc5 -o libs/resources.py resources.qrc\n",
    "    \n",
    "#installation package recommended"
   ]
  },
  {
   "cell_type": "code",
   "execution_count": 10,
   "metadata": {
    "collapsed": true
   },
   "outputs": [
    {
     "name": "stdout",
     "output_type": "stream",
     "text": [
      "Image:D:\\AI\\TensorflowObjectDetection\\Tensorflow\\workspace\\images\\collectedimages\\five\\five.6f9d6251-c5bd-11ee-baa1-a8a159458426.jpg -> Annotation:D:/AI/TensorflowObjectDetection/Tensorflow/workspace/images/collectedimages/five\\five.6f9d6251-c5bd-11ee-baa1-a8a159458426.xml\n",
      "Image:D:\\AI\\TensorflowObjectDetection\\Tensorflow\\workspace\\images\\collectedimages\\five\\five.7a822acc-c5bd-11ee-9305-a8a159458426.jpg -> Annotation:D:/AI/TensorflowObjectDetection/Tensorflow/workspace/images/collectedimages/five\\five.7a822acc-c5bd-11ee-9305-a8a159458426.xml\n",
      "Image:D:\\AI\\TensorflowObjectDetection\\Tensorflow\\workspace\\images\\collectedimages\\five\\five.7bb79a02-c5bd-11ee-a20d-a8a159458426.jpg -> Annotation:D:/AI/TensorflowObjectDetection/Tensorflow/workspace/images/collectedimages/five\\five.7bb79a02-c5bd-11ee-a20d-a8a159458426.xml\n",
      "Image:D:\\AI\\TensorflowObjectDetection\\Tensorflow\\workspace\\images\\collectedimages\\five\\five.7cef0963-c5bd-11ee-b1c0-a8a159458426.jpg -> Annotation:D:/AI/TensorflowObjectDetection/Tensorflow/workspace/images/collectedimages/five\\five.7cef0963-c5bd-11ee-b1c0-a8a159458426.xml\n",
      "Image:D:\\AI\\TensorflowObjectDetection\\Tensorflow\\workspace\\images\\collectedimages\\five\\five.7e24a260-c5bd-11ee-819d-a8a159458426.jpg -> Annotation:D:/AI/TensorflowObjectDetection/Tensorflow/workspace/images/collectedimages/five\\five.7e24a260-c5bd-11ee-819d-a8a159458426.xml\n",
      "Image:D:\\AI\\TensorflowObjectDetection\\Tensorflow\\workspace\\images\\collectedimages\\five\\five.7f5be8fe-c5bd-11ee-ab75-a8a159458426.jpg -> Annotation:D:/AI/TensorflowObjectDetection/Tensorflow/workspace/images/collectedimages/five\\five.7f5be8fe-c5bd-11ee-ab75-a8a159458426.xml\n",
      "Image:D:\\AI\\TensorflowObjectDetection\\Tensorflow\\workspace\\images\\collectedimages\\five\\five.70d2fc63-c5bd-11ee-a854-a8a159458426.jpg -> Annotation:D:/AI/TensorflowObjectDetection/Tensorflow/workspace/images/collectedimages/five\\five.70d2fc63-c5bd-11ee-a854-a8a159458426.xml\n",
      "Image:D:\\AI\\TensorflowObjectDetection\\Tensorflow\\workspace\\images\\collectedimages\\five\\five.75aa1d2f-c5bd-11ee-a94f-a8a159458426.jpg -> Annotation:D:/AI/TensorflowObjectDetection/Tensorflow/workspace/images/collectedimages/five\\five.75aa1d2f-c5bd-11ee-a94f-a8a159458426.xml\n",
      "Image:D:\\AI\\TensorflowObjectDetection\\Tensorflow\\workspace\\images\\collectedimages\\five\\five.76df1730-c5bd-11ee-b951-a8a159458426.jpg -> Annotation:D:/AI/TensorflowObjectDetection/Tensorflow/workspace/images/collectedimages/five\\five.76df1730-c5bd-11ee-b951-a8a159458426.xml\n",
      "Image:D:\\AI\\TensorflowObjectDetection\\Tensorflow\\workspace\\images\\collectedimages\\five\\five.81c8ca47-c5bd-11ee-a569-a8a159458426.jpg -> Annotation:D:/AI/TensorflowObjectDetection/Tensorflow/workspace/images/collectedimages/five\\five.81c8ca47-c5bd-11ee-a569-a8a159458426.xml\n",
      "Image:D:\\AI\\TensorflowObjectDetection\\Tensorflow\\workspace\\images\\collectedimages\\five\\five.82ffe8bc-c5bd-11ee-b8d9-a8a159458426.jpg -> Annotation:D:/AI/TensorflowObjectDetection/Tensorflow/workspace/images/collectedimages/five\\five.82ffe8bc-c5bd-11ee-b8d9-a8a159458426.xml\n",
      "Image:D:\\AI\\TensorflowObjectDetection\\Tensorflow\\workspace\\images\\collectedimages\\five\\five.86a60579-c5bd-11ee-ad7d-a8a159458426.jpg -> Annotation:D:/AI/TensorflowObjectDetection/Tensorflow/workspace/images/collectedimages/five\\five.86a60579-c5bd-11ee-ad7d-a8a159458426.xml\n",
      "Image:D:\\AI\\TensorflowObjectDetection\\Tensorflow\\workspace\\images\\collectedimages\\five\\five.733ccae6-c5bd-11ee-a50f-a8a159458426.jpg -> Annotation:D:/AI/TensorflowObjectDetection/Tensorflow/workspace/images/collectedimages/five\\five.733ccae6-c5bd-11ee-a50f-a8a159458426.xml\n",
      "Image:D:\\AI\\TensorflowObjectDetection\\Tensorflow\\workspace\\images\\collectedimages\\five\\five.794c6d76-c5bd-11ee-8d49-a8a159458426.jpg -> Annotation:D:/AI/TensorflowObjectDetection/Tensorflow/workspace/images/collectedimages/five\\five.794c6d76-c5bd-11ee-8d49-a8a159458426.xml\n",
      "Image:D:\\AI\\TensorflowObjectDetection\\Tensorflow\\workspace\\images\\collectedimages\\five\\five.856f84dc-c5bd-11ee-9d66-a8a159458426.jpg -> Annotation:D:/AI/TensorflowObjectDetection/Tensorflow/workspace/images/collectedimages/five\\five.856f84dc-c5bd-11ee-9d66-a8a159458426.xml\n",
      "Image:D:\\AI\\TensorflowObjectDetection\\Tensorflow\\workspace\\images\\collectedimages\\five\\five.7206bde7-c5bd-11ee-8ca4-a8a159458426.jpg -> Annotation:D:/AI/TensorflowObjectDetection/Tensorflow/workspace/images/collectedimages/five\\five.7206bde7-c5bd-11ee-8ca4-a8a159458426.xml\n",
      "Image:D:\\AI\\TensorflowObjectDetection\\Tensorflow\\workspace\\images\\collectedimages\\five\\five.8437a4c4-c5bd-11ee-b014-a8a159458426.jpg -> Annotation:D:/AI/TensorflowObjectDetection/Tensorflow/workspace/images/collectedimages/five\\five.8437a4c4-c5bd-11ee-b014-a8a159458426.xml\n",
      "Image:D:\\AI\\TensorflowObjectDetection\\Tensorflow\\workspace\\images\\collectedimages\\five\\five.80937f2d-c5bd-11ee-9692-a8a159458426.jpg -> Annotation:D:/AI/TensorflowObjectDetection/Tensorflow/workspace/images/collectedimages/five\\five.80937f2d-c5bd-11ee-9692-a8a159458426.xml\n",
      "Image:D:\\AI\\TensorflowObjectDetection\\Tensorflow\\workspace\\images\\collectedimages\\five\\five.7474102d-c5bd-11ee-a115-a8a159458426.jpg -> Annotation:D:/AI/TensorflowObjectDetection/Tensorflow/workspace/images/collectedimages/five\\five.7474102d-c5bd-11ee-a115-a8a159458426.xml\n",
      "Image:D:\\AI\\TensorflowObjectDetection\\Tensorflow\\workspace\\images\\collectedimages\\five\\five.78152426-c5bd-11ee-9a5c-a8a159458426.jpg -> Annotation:D:/AI/TensorflowObjectDetection/Tensorflow/workspace/images/collectedimages/five\\five.78152426-c5bd-11ee-9a5c-a8a159458426.xml\n",
      "Image:D:\\AI\\TensorflowObjectDetection\\Tensorflow\\workspace\\images\\collectedimages\\one\\one.5a0e2a28-c5bd-11ee-b9b9-a8a159458426.jpg -> Annotation:D:/AI/TensorflowObjectDetection/Tensorflow/workspace/images/collectedimages/one\\one.5a0e2a28-c5bd-11ee-b9b9-a8a159458426.xml\n",
      "Image:D:\\AI\\TensorflowObjectDetection\\Tensorflow\\workspace\\images\\collectedimages\\one\\one.5b43c372-c5bd-11ee-8507-a8a159458426.jpg -> Annotation:D:/AI/TensorflowObjectDetection/Tensorflow/workspace/images/collectedimages/one\\one.5b43c372-c5bd-11ee-8507-a8a159458426.xml\n",
      "Image:D:\\AI\\TensorflowObjectDetection\\Tensorflow\\workspace\\images\\collectedimages\\one\\one.5c7986b1-c5bd-11ee-9a2e-a8a159458426.jpg -> Annotation:D:/AI/TensorflowObjectDetection/Tensorflow/workspace/images/collectedimages/one\\one.5c7986b1-c5bd-11ee-9a2e-a8a159458426.xml\n",
      "Image:D:\\AI\\TensorflowObjectDetection\\Tensorflow\\workspace\\images\\collectedimages\\one\\one.5db0f8ef-c5bd-11ee-a412-a8a159458426.jpg -> Annotation:D:/AI/TensorflowObjectDetection/Tensorflow/workspace/images/collectedimages/one\\one.5db0f8ef-c5bd-11ee-a412-a8a159458426.xml\n",
      "Image:D:\\AI\\TensorflowObjectDetection\\Tensorflow\\workspace\\images\\collectedimages\\one\\one.5ee696b4-c5bd-11ee-ae65-a8a159458426.jpg -> Annotation:D:/AI/TensorflowObjectDetection/Tensorflow/workspace/images/collectedimages/one\\one.5ee696b4-c5bd-11ee-ae65-a8a159458426.xml\n",
      "Image:D:\\AI\\TensorflowObjectDetection\\Tensorflow\\workspace\\images\\collectedimages\\one\\one.52c35f7f-c5bd-11ee-bb1b-a8a159458426.jpg -> Annotation:D:/AI/TensorflowObjectDetection/Tensorflow/workspace/images/collectedimages/one\\one.52c35f7f-c5bd-11ee-bb1b-a8a159458426.xml\n",
      "Image:D:\\AI\\TensorflowObjectDetection\\Tensorflow\\workspace\\images\\collectedimages\\one\\one.53f9cb3f-c5bd-11ee-86c7-a8a159458426.jpg -> Annotation:D:/AI/TensorflowObjectDetection/Tensorflow/workspace/images/collectedimages/one\\one.53f9cb3f-c5bd-11ee-86c7-a8a159458426.xml\n",
      "Image:D:\\AI\\TensorflowObjectDetection\\Tensorflow\\workspace\\images\\collectedimages\\one\\one.57a0b17d-c5bd-11ee-8850-a8a159458426.jpg -> Annotation:D:/AI/TensorflowObjectDetection/Tensorflow/workspace/images/collectedimages/one\\one.57a0b17d-c5bd-11ee-8850-a8a159458426.xml\n",
      "Image:D:\\AI\\TensorflowObjectDetection\\Tensorflow\\workspace\\images\\collectedimages\\one\\one.58d81c7d-c5bd-11ee-bd98-a8a159458426.jpg -> Annotation:D:/AI/TensorflowObjectDetection/Tensorflow/workspace/images/collectedimages/one\\one.58d81c7d-c5bd-11ee-bd98-a8a159458426.xml\n",
      "Image:D:\\AI\\TensorflowObjectDetection\\Tensorflow\\workspace\\images\\collectedimages\\one\\one.63bde237-c5bd-11ee-9e8e-a8a159458426.jpg -> Annotation:D:/AI/TensorflowObjectDetection/Tensorflow/workspace/images/collectedimages/one\\one.63bde237-c5bd-11ee-9e8e-a8a159458426.xml\n",
      "Image:D:\\AI\\TensorflowObjectDetection\\Tensorflow\\workspace\\images\\collectedimages\\one\\one.64f3caf1-c5bd-11ee-b803-a8a159458426.jpg -> Annotation:D:/AI/TensorflowObjectDetection/Tensorflow/workspace/images/collectedimages/one\\one.64f3caf1-c5bd-11ee-b803-a8a159458426.xml\n",
      "Image:D:\\AI\\TensorflowObjectDetection\\Tensorflow\\workspace\\images\\collectedimages\\one\\one.518b7d44-c5bd-11ee-bbb0-a8a159458426.jpg -> Annotation:D:/AI/TensorflowObjectDetection/Tensorflow/workspace/images/collectedimages/one\\one.518b7d44-c5bd-11ee-bbb0-a8a159458426.xml\n",
      "Image:D:\\AI\\TensorflowObjectDetection\\Tensorflow\\workspace\\images\\collectedimages\\one\\one.601d3fc8-c5bd-11ee-8398-a8a159458426.jpg -> Annotation:D:/AI/TensorflowObjectDetection/Tensorflow/workspace/images/collectedimages/one\\one.601d3fc8-c5bd-11ee-8398-a8a159458426.xml\n",
      "Image:D:\\AI\\TensorflowObjectDetection\\Tensorflow\\workspace\\images\\collectedimages\\one\\one.662a7820-c5bd-11ee-9249-a8a159458426.jpg -> Annotation:D:/AI/TensorflowObjectDetection/Tensorflow/workspace/images/collectedimages/one\\one.662a7820-c5bd-11ee-9249-a8a159458426.xml\n",
      "Image:D:\\AI\\TensorflowObjectDetection\\Tensorflow\\workspace\\images\\collectedimages\\one\\one.5531ab71-c5bd-11ee-a340-a8a159458426.jpg -> Annotation:D:/AI/TensorflowObjectDetection/Tensorflow/workspace/images/collectedimages/one\\one.5531ab71-c5bd-11ee-a340-a8a159458426.xml\n",
      "Image:D:\\AI\\TensorflowObjectDetection\\Tensorflow\\workspace\\images\\collectedimages\\one\\one.5669b70c-c5bd-11ee-8e59-a8a159458426.jpg -> Annotation:D:/AI/TensorflowObjectDetection/Tensorflow/workspace/images/collectedimages/one\\one.5669b70c-c5bd-11ee-8e59-a8a159458426.xml\n",
      "Image:D:\\AI\\TensorflowObjectDetection\\Tensorflow\\workspace\\images\\collectedimages\\one\\one.61532662-c5bd-11ee-831d-a8a159458426.jpg -> Annotation:D:/AI/TensorflowObjectDetection/Tensorflow/workspace/images/collectedimages/one\\one.61532662-c5bd-11ee-831d-a8a159458426.xml\n",
      "Image:D:\\AI\\TensorflowObjectDetection\\Tensorflow\\workspace\\images\\collectedimages\\one\\one.62889724-c5bd-11ee-a485-a8a159458426.jpg -> Annotation:D:/AI/TensorflowObjectDetection/Tensorflow/workspace/images/collectedimages/one\\one.62889724-c5bd-11ee-a485-a8a159458426.xml\n",
      "Image:D:\\AI\\TensorflowObjectDetection\\Tensorflow\\workspace\\images\\collectedimages\\thumbsdown\\thumbsdown.b0b85f00-c5bd-11ee-9427-a8a159458426.jpg -> Annotation:D:/AI/TensorflowObjectDetection/Tensorflow/workspace/images/collectedimages/thumbsdown\\thumbsdown.b0b85f00-c5bd-11ee-9427-a8a159458426.xml\n",
      "Image:D:\\AI\\TensorflowObjectDetection\\Tensorflow\\workspace\\images\\collectedimages\\thumbsdown\\thumbsdown.b1ed31f7-c5bd-11ee-bba6-a8a159458426.jpg -> Annotation:D:/AI/TensorflowObjectDetection/Tensorflow/workspace/images/collectedimages/thumbsdown\\thumbsdown.b1ed31f7-c5bd-11ee-bba6-a8a159458426.xml\n",
      "Image:D:\\AI\\TensorflowObjectDetection\\Tensorflow\\workspace\\images\\collectedimages\\thumbsdown\\thumbsdown.b6c60e99-c5bd-11ee-a6c6-a8a159458426.jpg -> Annotation:D:/AI/TensorflowObjectDetection/Tensorflow/workspace/images/collectedimages/thumbsdown\\thumbsdown.b6c60e99-c5bd-11ee-a6c6-a8a159458426.xml\n",
      "Image:D:\\AI\\TensorflowObjectDetection\\Tensorflow\\workspace\\images\\collectedimages\\thumbsdown\\thumbsdown.b7fd54cd-c5bd-11ee-81c1-a8a159458426.jpg -> Annotation:D:/AI/TensorflowObjectDetection/Tensorflow/workspace/images/collectedimages/thumbsdown\\thumbsdown.b7fd54cd-c5bd-11ee-81c1-a8a159458426.xml\n",
      "Image:D:\\AI\\TensorflowObjectDetection\\Tensorflow\\workspace\\images\\collectedimages\\thumbsdown\\thumbsdown.b58f152e-c5bd-11ee-badb-a8a159458426.jpg -> Annotation:D:/AI/TensorflowObjectDetection/Tensorflow/workspace/images/collectedimages/thumbsdown\\thumbsdown.b58f152e-c5bd-11ee-badb-a8a159458426.xml\n",
      "Image:D:\\AI\\TensorflowObjectDetection\\Tensorflow\\workspace\\images\\collectedimages\\thumbsdown\\thumbsdown.b458d826-c5bd-11ee-b423-a8a159458426.jpg -> Annotation:D:/AI/TensorflowObjectDetection/Tensorflow/workspace/images/collectedimages/thumbsdown\\thumbsdown.b458d826-c5bd-11ee-b423-a8a159458426.xml\n",
      "Image:D:\\AI\\TensorflowObjectDetection\\Tensorflow\\workspace\\images\\collectedimages\\thumbsdown\\thumbsdown.b932edf5-c5bd-11ee-b11d-a8a159458426.jpg -> Annotation:D:/AI/TensorflowObjectDetection/Tensorflow/workspace/images/collectedimages/thumbsdown\\thumbsdown.b932edf5-c5bd-11ee-b11d-a8a159458426.xml\n",
      "Image:D:\\AI\\TensorflowObjectDetection\\Tensorflow\\workspace\\images\\collectedimages\\thumbsdown\\thumbsdown.b3214600-c5bd-11ee-80ed-a8a159458426.jpg -> Annotation:D:/AI/TensorflowObjectDetection/Tensorflow/workspace/images/collectedimages/thumbsdown\\thumbsdown.b3214600-c5bd-11ee-80ed-a8a159458426.xml\n",
      "Image:D:\\AI\\TensorflowObjectDetection\\Tensorflow\\workspace\\images\\collectedimages\\thumbsdown\\thumbsdown.ba66643e-c5bd-11ee-97a1-a8a159458426.jpg -> Annotation:D:/AI/TensorflowObjectDetection/Tensorflow/workspace/images/collectedimages/thumbsdown\\thumbsdown.ba66643e-c5bd-11ee-97a1-a8a159458426.xml\n",
      "Image:D:\\AI\\TensorflowObjectDetection\\Tensorflow\\workspace\\images\\collectedimages\\thumbsdown\\thumbsdown.bb9c22fa-c5bd-11ee-bd06-a8a159458426.jpg -> Annotation:D:/AI/TensorflowObjectDetection/Tensorflow/workspace/images/collectedimages/thumbsdown\\thumbsdown.bb9c22fa-c5bd-11ee-bd06-a8a159458426.xml\n",
      "Image:D:\\AI\\TensorflowObjectDetection\\Tensorflow\\workspace\\images\\collectedimages\\thumbsdown\\thumbsdown.bcd371f5-c5bd-11ee-99a1-a8a159458426.jpg -> Annotation:D:/AI/TensorflowObjectDetection/Tensorflow/workspace/images/collectedimages/thumbsdown\\thumbsdown.bcd371f5-c5bd-11ee-99a1-a8a159458426.xml\n",
      "Image:D:\\AI\\TensorflowObjectDetection\\Tensorflow\\workspace\\images\\collectedimages\\thumbsdown\\thumbsdown.be0ab5e7-c5bd-11ee-96f5-a8a159458426.jpg -> Annotation:D:/AI/TensorflowObjectDetection/Tensorflow/workspace/images/collectedimages/thumbsdown\\thumbsdown.be0ab5e7-c5bd-11ee-96f5-a8a159458426.xml\n",
      "Image:D:\\AI\\TensorflowObjectDetection\\Tensorflow\\workspace\\images\\collectedimages\\thumbsdown\\thumbsdown.bf407600-c5bd-11ee-a766-a8a159458426.jpg -> Annotation:D:/AI/TensorflowObjectDetection/Tensorflow/workspace/images/collectedimages/thumbsdown\\thumbsdown.bf407600-c5bd-11ee-a766-a8a159458426.xml\n",
      "Image:D:\\AI\\TensorflowObjectDetection\\Tensorflow\\workspace\\images\\collectedimages\\thumbsdown\\thumbsdown.c1ad7a31-c5bd-11ee-ab82-a8a159458426.jpg -> Annotation:D:/AI/TensorflowObjectDetection/Tensorflow/workspace/images/collectedimages/thumbsdown\\thumbsdown.c1ad7a31-c5bd-11ee-ab82-a8a159458426.xml\n",
      "Image:D:\\AI\\TensorflowObjectDetection\\Tensorflow\\workspace\\images\\collectedimages\\thumbsdown\\thumbsdown.c2e42344-c5bd-11ee-9f97-a8a159458426.jpg -> Annotation:D:/AI/TensorflowObjectDetection/Tensorflow/workspace/images/collectedimages/thumbsdown\\thumbsdown.c2e42344-c5bd-11ee-9f97-a8a159458426.xml\n",
      "Image:D:\\AI\\TensorflowObjectDetection\\Tensorflow\\workspace\\images\\collectedimages\\thumbsdown\\thumbsdown.c7bfd976-c5bd-11ee-be15-a8a159458426.jpg -> Annotation:D:/AI/TensorflowObjectDetection/Tensorflow/workspace/images/collectedimages/thumbsdown\\thumbsdown.c7bfd976-c5bd-11ee-be15-a8a159458426.xml\n",
      "Image:D:\\AI\\TensorflowObjectDetection\\Tensorflow\\workspace\\images\\collectedimages\\thumbsdown\\thumbsdown.c41bb84f-c5bd-11ee-9aaf-a8a159458426.jpg -> Annotation:D:/AI/TensorflowObjectDetection/Tensorflow/workspace/images/collectedimages/thumbsdown\\thumbsdown.c41bb84f-c5bd-11ee-9aaf-a8a159458426.xml\n",
      "Image:D:\\AI\\TensorflowObjectDetection\\Tensorflow\\workspace\\images\\collectedimages\\thumbsdown\\thumbsdown.c687f7ac-c5bd-11ee-919c-a8a159458426.jpg -> Annotation:D:/AI/TensorflowObjectDetection/Tensorflow/workspace/images/collectedimages/thumbsdown\\thumbsdown.c687f7ac-c5bd-11ee-919c-a8a159458426.xml\n",
      "Image:D:\\AI\\TensorflowObjectDetection\\Tensorflow\\workspace\\images\\collectedimages\\thumbsdown\\thumbsdown.c0760db8-c5bd-11ee-a5a3-a8a159458426.jpg -> Annotation:D:/AI/TensorflowObjectDetection/Tensorflow/workspace/images/collectedimages/thumbsdown\\thumbsdown.c0760db8-c5bd-11ee-a5a3-a8a159458426.xml\n",
      "Image:D:\\AI\\TensorflowObjectDetection\\Tensorflow\\workspace\\images\\collectedimages\\thumbsdown\\thumbsdown.c5525fff-c5bd-11ee-8da4-a8a159458426.jpg -> Annotation:D:/AI/TensorflowObjectDetection/Tensorflow/workspace/images/collectedimages/thumbsdown\\thumbsdown.c5525fff-c5bd-11ee-8da4-a8a159458426.xml\n",
      "Image:D:\\AI\\TensorflowObjectDetection\\Tensorflow\\workspace\\images\\collectedimages\\thumbsup\\thumbsup.9b0ace56-c5bd-11ee-893a-a8a159458426.jpg -> Annotation:D:/AI/TensorflowObjectDetection/Tensorflow/workspace/images/collectedimages/thumbsup\\thumbsup.9b0ace56-c5bd-11ee-893a-a8a159458426.xml\n",
      "Image:D:\\AI\\TensorflowObjectDetection\\Tensorflow\\workspace\\images\\collectedimages\\thumbsup\\thumbsup.9c42ae80-c5bd-11ee-b1ce-a8a159458426.jpg -> Annotation:D:/AI/TensorflowObjectDetection/Tensorflow/workspace/images/collectedimages/thumbsup\\thumbsup.9c42ae80-c5bd-11ee-b1ce-a8a159458426.xml\n",
      "Image:D:\\AI\\TensorflowObjectDetection\\Tensorflow\\workspace\\images\\collectedimages\\thumbsup\\thumbsup.9d77f964-c5bd-11ee-8fb4-a8a159458426.jpg -> Annotation:D:/AI/TensorflowObjectDetection/Tensorflow/workspace/images/collectedimages/thumbsup\\thumbsup.9d77f964-c5bd-11ee-8fb4-a8a159458426.xml\n",
      "Image:D:\\AI\\TensorflowObjectDetection\\Tensorflow\\workspace\\images\\collectedimages\\thumbsup\\thumbsup.9eaf8b73-c5bd-11ee-8499-a8a159458426.jpg -> Annotation:D:/AI/TensorflowObjectDetection/Tensorflow/workspace/images/collectedimages/thumbsup\\thumbsup.9eaf8b73-c5bd-11ee-8499-a8a159458426.xml\n",
      "Image:D:\\AI\\TensorflowObjectDetection\\Tensorflow\\workspace\\images\\collectedimages\\thumbsup\\thumbsup.9fe7702d-c5bd-11ee-a47c-a8a159458426.jpg -> Annotation:D:/AI/TensorflowObjectDetection/Tensorflow/workspace/images/collectedimages/thumbsup\\thumbsup.9fe7702d-c5bd-11ee-a47c-a8a159458426.xml\n",
      "Image:D:\\AI\\TensorflowObjectDetection\\Tensorflow\\workspace\\images\\collectedimages\\thumbsup\\thumbsup.93bd34ff-c5bd-11ee-b70e-a8a159458426.jpg -> Annotation:D:/AI/TensorflowObjectDetection/Tensorflow/workspace/images/collectedimages/thumbsup\\thumbsup.93bd34ff-c5bd-11ee-b70e-a8a159458426.xml\n",
      "Image:D:\\AI\\TensorflowObjectDetection\\Tensorflow\\workspace\\images\\collectedimages\\thumbsup\\thumbsup.94f42c4c-c5bd-11ee-b915-a8a159458426.jpg -> Annotation:D:/AI/TensorflowObjectDetection/Tensorflow/workspace/images/collectedimages/thumbsup\\thumbsup.94f42c4c-c5bd-11ee-b915-a8a159458426.xml\n",
      "Image:D:\\AI\\TensorflowObjectDetection\\Tensorflow\\workspace\\images\\collectedimages\\thumbsup\\thumbsup.99d38a6a-c5bd-11ee-bda5-a8a159458426.jpg -> Annotation:D:/AI/TensorflowObjectDetection/Tensorflow/workspace/images/collectedimages/thumbsup\\thumbsup.99d38a6a-c5bd-11ee-bda5-a8a159458426.xml\n",
      "Image:D:\\AI\\TensorflowObjectDetection\\Tensorflow\\workspace\\images\\collectedimages\\thumbsup\\thumbsup.901bd984-c5bd-11ee-a2e9-a8a159458426.jpg -> Annotation:D:/AI/TensorflowObjectDetection/Tensorflow/workspace/images/collectedimages/thumbsup\\thumbsup.901bd984-c5bd-11ee-a2e9-a8a159458426.xml\n",
      "Image:D:\\AI\\TensorflowObjectDetection\\Tensorflow\\workspace\\images\\collectedimages\\thumbsup\\thumbsup.962c5c37-c5bd-11ee-a8da-a8a159458426.jpg -> Annotation:D:/AI/TensorflowObjectDetection/Tensorflow/workspace/images/collectedimages/thumbsup\\thumbsup.962c5c37-c5bd-11ee-a8da-a8a159458426.xml\n",
      "Image:D:\\AI\\TensorflowObjectDetection\\Tensorflow\\workspace\\images\\collectedimages\\thumbsup\\thumbsup.989b832e-c5bd-11ee-b733-a8a159458426.jpg -> Annotation:D:/AI/TensorflowObjectDetection/Tensorflow/workspace/images/collectedimages/thumbsup\\thumbsup.989b832e-c5bd-11ee-b733-a8a159458426.xml\n",
      "Image:D:\\AI\\TensorflowObjectDetection\\Tensorflow\\workspace\\images\\collectedimages\\thumbsup\\thumbsup.9763c733-c5bd-11ee-b5c6-a8a159458426.jpg -> Annotation:D:/AI/TensorflowObjectDetection/Tensorflow/workspace/images/collectedimages/thumbsup\\thumbsup.9763c733-c5bd-11ee-b5c6-a8a159458426.xml\n",
      "Image:D:\\AI\\TensorflowObjectDetection\\Tensorflow\\workspace\\images\\collectedimages\\thumbsup\\thumbsup.91528134-c5bd-11ee-99be-a8a159458426.jpg -> Annotation:D:/AI/TensorflowObjectDetection/Tensorflow/workspace/images/collectedimages/thumbsup\\thumbsup.91528134-c5bd-11ee-99be-a8a159458426.xml\n",
      "Image:D:\\AI\\TensorflowObjectDetection\\Tensorflow\\workspace\\images\\collectedimages\\thumbsup\\thumbsup.92864976-c5bd-11ee-a977-a8a159458426.jpg -> Annotation:D:/AI/TensorflowObjectDetection/Tensorflow/workspace/images/collectedimages/thumbsup\\thumbsup.92864976-c5bd-11ee-a977-a8a159458426.xml\n",
      "Image:D:\\AI\\TensorflowObjectDetection\\Tensorflow\\workspace\\images\\collectedimages\\thumbsup\\thumbsup.a4c65435-c5bd-11ee-af44-a8a159458426.jpg -> Annotation:D:/AI/TensorflowObjectDetection/Tensorflow/workspace/images/collectedimages/thumbsup\\thumbsup.a4c65435-c5bd-11ee-af44-a8a159458426.xml\n",
      "Image:D:\\AI\\TensorflowObjectDetection\\Tensorflow\\workspace\\images\\collectedimages\\thumbsup\\thumbsup.a5fd4a07-c5bd-11ee-abed-a8a159458426.jpg -> Annotation:D:/AI/TensorflowObjectDetection/Tensorflow/workspace/images/collectedimages/thumbsup\\thumbsup.a5fd4a07-c5bd-11ee-abed-a8a159458426.xml\n",
      "Image:D:\\AI\\TensorflowObjectDetection\\Tensorflow\\workspace\\images\\collectedimages\\thumbsup\\thumbsup.a11ee391-c5bd-11ee-83d9-a8a159458426.jpg -> Annotation:D:/AI/TensorflowObjectDetection/Tensorflow/workspace/images/collectedimages/thumbsup\\thumbsup.a11ee391-c5bd-11ee-83d9-a8a159458426.xml\n",
      "Image:D:\\AI\\TensorflowObjectDetection\\Tensorflow\\workspace\\images\\collectedimages\\thumbsup\\thumbsup.a38e576b-c5bd-11ee-96be-a8a159458426.jpg -> Annotation:D:/AI/TensorflowObjectDetection/Tensorflow/workspace/images/collectedimages/thumbsup\\thumbsup.a38e576b-c5bd-11ee-96be-a8a159458426.xml\n",
      "Image:D:\\AI\\TensorflowObjectDetection\\Tensorflow\\workspace\\images\\collectedimages\\thumbsup\\thumbsup.a732b939-c5bd-11ee-ab06-a8a159458426.jpg -> Annotation:D:/AI/TensorflowObjectDetection/Tensorflow/workspace/images/collectedimages/thumbsup\\thumbsup.a732b939-c5bd-11ee-ab06-a8a159458426.xml\n",
      "Image:D:\\AI\\TensorflowObjectDetection\\Tensorflow\\workspace\\images\\collectedimages\\thumbsup\\thumbsup.a2569cac-c5bd-11ee-8925-a8a159458426.jpg -> Annotation:D:/AI/TensorflowObjectDetection/Tensorflow/workspace/images/collectedimages/thumbsup\\thumbsup.a2569cac-c5bd-11ee-8925-a8a159458426.xml\n"
     ]
    }
   ],
   "source": [
    "!cd {LABELIMG_PATH} && python labelImg.py"
   ]
  },
  {
   "cell_type": "markdown",
   "metadata": {},
   "source": [
    "# 6. Move them into a Training and Testing Partition"
   ]
  },
  {
   "cell_type": "markdown",
   "metadata": {},
   "source": [
    "# OPTIONAL - 7. Compress them for Colab Training"
   ]
  },
  {
   "cell_type": "code",
   "execution_count": 20,
   "metadata": {},
   "outputs": [],
   "source": [
    "TRAIN_PATH = os.path.join('Tensorflow', 'workspace', 'images', 'train')\n",
    "TEST_PATH = os.path.join('Tensorflow', 'workspace', 'images', 'test')\n",
    "ARCHIVE_PATH = os.path.join('Tensorflow', 'workspace', 'images', 'archive.tar.gz')"
   ]
  },
  {
   "cell_type": "code",
   "execution_count": 21,
   "metadata": {},
   "outputs": [],
   "source": [
    "!tar -czf {ARCHIVE_PATH} {TRAIN_PATH} {TEST_PATH}"
   ]
  },
  {
   "cell_type": "code",
   "execution_count": null,
   "metadata": {},
   "outputs": [],
   "source": []
  }
 ],
 "metadata": {
  "kernelspec": {
   "display_name": "tfod",
   "language": "python",
   "name": "tfod"
  },
  "language_info": {
   "codemirror_mode": {
    "name": "ipython",
    "version": 3
   },
   "file_extension": ".py",
   "mimetype": "text/x-python",
   "name": "python",
   "nbconvert_exporter": "python",
   "pygments_lexer": "ipython3",
   "version": "3.10.11"
  }
 },
 "nbformat": 4,
 "nbformat_minor": 4
}
